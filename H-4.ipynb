{
 "cells": [
  {
   "cell_type": "code",
   "execution_count": 1,
   "id": "9aeef58f-c8c8-4697-a477-84f3692dfd1a",
   "metadata": {},
   "outputs": [
    {
     "name": "stdout",
     "output_type": "stream",
     "text": [
      "\n",
      "Child Vaccination Management System\n",
      "1. Register Child\n",
      "2. Book Appointment\n",
      "3. View Schedule\n",
      "4. View Reminders\n",
      "5. Exit\n"
     ]
    },
    {
     "name": "stdin",
     "output_type": "stream",
     "text": [
      "Enter your choice:  1\n",
      "Enter child's name:  Teja\n",
      "Enter child's date of birth (YYYY-MM-DD):  09-11-2020\n",
      "Enter parent's contact number:  9032832665\n"
     ]
    },
    {
     "name": "stdout",
     "output_type": "stream",
     "text": [
      "Teja has been registered successfully.\n",
      "\n",
      "Child Vaccination Management System\n",
      "1. Register Child\n",
      "2. Book Appointment\n",
      "3. View Schedule\n",
      "4. View Reminders\n",
      "5. Exit\n"
     ]
    },
    {
     "name": "stdin",
     "output_type": "stream",
     "text": [
      "Enter your choice:  1\n",
      "Enter child's name:  Raju\n",
      "Enter child's date of birth (YYYY-MM-DD):  19-10-2019\n",
      "Enter parent's contact number:  8297661523\n"
     ]
    },
    {
     "name": "stdout",
     "output_type": "stream",
     "text": [
      "Raju has been registered successfully.\n",
      "\n",
      "Child Vaccination Management System\n",
      "1. Register Child\n",
      "2. Book Appointment\n",
      "3. View Schedule\n",
      "4. View Reminders\n",
      "5. Exit\n"
     ]
    },
    {
     "name": "stdin",
     "output_type": "stream",
     "text": [
      "Enter your choice:  2\n",
      "Enter child's name:  Raju\n",
      "Enter appointment date (YYYY-MM-DD):  23-08-2024\n",
      "Enter vaccine name:  Pentavalent Vaccine\n"
     ]
    },
    {
     "name": "stdout",
     "output_type": "stream",
     "text": [
      "Appointment for Pentavalent Vaccine on 23-08-2024 has been booked for Raju.\n",
      "\n",
      "Child Vaccination Management System\n",
      "1. Register Child\n",
      "2. Book Appointment\n",
      "3. View Schedule\n",
      "4. View Reminders\n",
      "5. Exit\n"
     ]
    },
    {
     "name": "stdin",
     "output_type": "stream",
     "text": [
      "Enter your choice:  3\n",
      "Enter child's name:  Raju\n"
     ]
    },
    {
     "name": "stdout",
     "output_type": "stream",
     "text": [
      "Vaccination Schedule for Raju:\n",
      " - 23-08-2024: Pentavalent Vaccine\n",
      "\n",
      "Child Vaccination Management System\n",
      "1. Register Child\n",
      "2. Book Appointment\n",
      "3. View Schedule\n",
      "4. View Reminders\n",
      "5. Exit\n"
     ]
    },
    {
     "name": "stdin",
     "output_type": "stream",
     "text": [
      "Enter your choice:  4\n"
     ]
    },
    {
     "name": "stdout",
     "output_type": "stream",
     "text": [
      "Reminder: Raju has an appointment for Pentavalent Vaccine on 23-08-2024\n",
      "\n",
      "Child Vaccination Management System\n",
      "1. Register Child\n",
      "2. Book Appointment\n",
      "3. View Schedule\n",
      "4. View Reminders\n",
      "5. Exit\n"
     ]
    },
    {
     "name": "stdin",
     "output_type": "stream",
     "text": [
      "Enter your choice:  5\n"
     ]
    }
   ],
   "source": [
    "import datetime\n",
    "\n",
    "# Sample data structure for storing child data\n",
    "children = {}\n",
    "\n",
    "def register_child():\n",
    "    name = input(\"Enter child's name: \")\n",
    "    dob = input(\"Enter child's date of birth (YYYY-MM-DD): \")\n",
    "    parent_contact = input(\"Enter parent's contact number: \")\n",
    "    children[name] = {'dob': dob, 'parent_contact': parent_contact, 'appointments': []}\n",
    "    print(f\"{name} has been registered successfully.\")\n",
    "\n",
    "def book_appointment():\n",
    "    name = input(\"Enter child's name: \")\n",
    "    if name in children:\n",
    "        date = input(\"Enter appointment date (YYYY-MM-DD): \")\n",
    "        vaccine = input(\"Enter vaccine name: \")\n",
    "        children[name]['appointments'].append({'date': date, 'vaccine': vaccine})\n",
    "        print(f\"Appointment for {vaccine} on {date} has been booked for {name}.\")\n",
    "    else:\n",
    "        print(\"Child not found. Please register first.\")\n",
    "\n",
    "def view_schedule():\n",
    "    name = input(\"Enter child's name: \")\n",
    "    if name in children:\n",
    "        print(f\"Vaccination Schedule for {name}:\")\n",
    "        for appointment in children[name]['appointments']:\n",
    "            print(f\" - {appointment['date']}: {appointment['vaccine']}\")\n",
    "    else:\n",
    "        print(\"Child not found.\")\n",
    "\n",
    "def view_reminders():\n",
    "    today = datetime.date.today().strftime('%Y-%m-%d')\n",
    "    for name, details in children.items():\n",
    "        for appointment in details['appointments']:\n",
    "            if appointment['date'] >= today:\n",
    "                print(f\"Reminder: {name} has an appointment for {appointment['vaccine']} on {appointment['date']}\")\n",
    "\n",
    "def main():\n",
    "    while True:\n",
    "        print(\"\\nChild Vaccination Management System\")\n",
    "        print(\"1. Register Child\")\n",
    "        print(\"2. Book Appointment\")\n",
    "        print(\"3. View Schedule\")\n",
    "        print(\"4. View Reminders\")\n",
    "        print(\"5. Exit\")\n",
    "        \n",
    "        choice = input(\"Enter your choice: \")\n",
    "        if choice == '1':\n",
    "            register_child()\n",
    "        elif choice == '2':\n",
    "            book_appointment()\n",
    "        elif choice == '3':\n",
    "            view_schedule()\n",
    "        elif choice == '4':\n",
    "            view_reminders()\n",
    "        elif choice == '5':\n",
    "            break\n",
    "        else:\n",
    "            print(\"Invalid choice, please try again.\")\n",
    "\n",
    "if __name__ == \"__main__\":\n",
    "    main()\n"
   ]
  },
  {
   "cell_type": "code",
   "execution_count": null,
   "id": "2e222c95-58dc-4bbc-8ec3-27ce72f7d985",
   "metadata": {},
   "outputs": [],
   "source": []
  }
 ],
 "metadata": {
  "kernelspec": {
   "display_name": "Python 3 (ipykernel)",
   "language": "python",
   "name": "python3"
  },
  "language_info": {
   "codemirror_mode": {
    "name": "ipython",
    "version": 3
   },
   "file_extension": ".py",
   "mimetype": "text/x-python",
   "name": "python",
   "nbconvert_exporter": "python",
   "pygments_lexer": "ipython3",
   "version": "3.12.4"
  }
 },
 "nbformat": 4,
 "nbformat_minor": 5
}
